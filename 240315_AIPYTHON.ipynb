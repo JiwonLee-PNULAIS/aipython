{
  "nbformat": 4,
  "nbformat_minor": 0,
  "metadata": {
    "colab": {
      "provenance": []
    },
    "kernelspec": {
      "name": "python3",
      "display_name": "Python 3"
    },
    "language_info": {
      "name": "python"
    }
  },
  "cells": [
    {
      "cell_type": "code",
      "execution_count": null,
      "metadata": {
        "colab": {
          "base_uri": "https://localhost:8080/"
        },
        "id": "AqE1lrtY5XSg",
        "outputId": "8c05fa19-3ec3-4092-ec6c-45616d35b715"
      },
      "outputs": [
        {
          "output_type": "stream",
          "name": "stdout",
          "text": [
            "두 정수를 입력하세요: 1 3\n",
            "두 정수의 합은 4\n"
          ]
        }
      ],
      "source": [
        "A, B = map(int, input(\"두 정수를 입력하세요: \").split())\n",
        "result = A + B\n",
        "print(\"두 정수의 합은\", result)\n"
      ]
    },
    {
      "cell_type": "markdown",
      "source": [],
      "metadata": {
        "id": "fj8E0Vfv_0Um"
      }
    },
    {
      "cell_type": "code",
      "source": [
        "print(\"Hello Python\")"
      ],
      "metadata": {
        "colab": {
          "base_uri": "https://localhost:8080/"
        },
        "id": "FXUL39lz_lFA",
        "outputId": "5a5488b3-ae2c-42a6-8261-a3f6e54c97dd"
      },
      "execution_count": null,
      "outputs": [
        {
          "output_type": "stream",
          "name": "stdout",
          "text": [
            "Hello Python\n"
          ]
        }
      ]
    },
    {
      "cell_type": "code",
      "source": [],
      "metadata": {
        "id": "QEwhutA1_rXe"
      },
      "execution_count": null,
      "outputs": []
    }
  ]
}